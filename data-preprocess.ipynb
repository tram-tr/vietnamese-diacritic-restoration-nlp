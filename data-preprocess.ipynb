{
 "cells": [
  {
   "cell_type": "code",
   "execution_count": 1,
   "id": "296f379e",
   "metadata": {},
   "outputs": [],
   "source": [
    "import os\n",
    "import re\n",
    "from nltk import word_tokenize, sent_tokenize\n",
    "import string\n",
    "from tqdm import tqdm \n",
    "from pprint import pprint\n",
    "import json"
   ]
  },
  {
   "cell_type": "code",
   "execution_count": 2,
   "id": "93390c7a",
   "metadata": {},
   "outputs": [],
   "source": [
    "raw_data = []\n",
    "for dir_name, _, file_names in os.walk('./raw_data'):\n",
    "    for file_name in file_names:\n",
    "        with open(os.path.join(dir_name, file_name), 'r', encoding='UTF-16') as f:\n",
    "            file_data = f.read()\n",
    "            file_data = file_data.replace('\\n', '. ')\n",
    "            raw_data.append(file_data)"
   ]
  },
  {
   "cell_type": "code",
   "execution_count": 3,
   "id": "f1ad7e2a",
   "metadata": {},
   "outputs": [
    {
     "name": "stdout",
     "output_type": "stream",
     "text": [
      "42744\n"
     ]
    }
   ],
   "source": [
    "print(len(raw_data)) # number of raw data files "
   ]
  },
  {
   "cell_type": "code",
   "execution_count": 4,
   "id": "133c4cf1",
   "metadata": {},
   "outputs": [
    {
     "name": "stdout",
     "output_type": "stream",
     "text": [
      "738597\n"
     ]
    }
   ],
   "source": [
    "# split data into sentences\n",
    "full_data = '. '.join(raw_data)\n",
    "full_data = full_data.replace('\\n', '. ')\n",
    "full_data = re.split(r'(?<=[^A-Z].[.?]) +(?=[A-Z])', full_data)\n",
    "print(len(full_data)) # number of raw sentences"
   ]
  },
  {
   "cell_type": "code",
   "execution_count": 65,
   "id": "2c236764",
   "metadata": {},
   "outputs": [
    {
     "name": "stdout",
     "output_type": "stream",
     "text": [
      "['Thích Tiểu Long và những mơ ước trong cuộc sống.', 'Khát vọng lớn nhất của ngôi sao điện ảnh 16 tuổi này là trở thành một minh tinh võ hiệp, chinh phục kinh đô điện ảnh Hollywood.', 'Bởi vậy, ngay từ nhỏ, Thích Tiểu Long đã lao vào tập luyện và trau dồi kiến thức để thực hiện giấc mơ lớn của mình.. - Anh đến với điện ảnh từ khi nào?. - Tôi sinh ra trong gia đình nhà võ, tên thật của tôi là Trần Tiểu Long, năm hơn 1 tuổi đã được bố cho đi học võ và lấy pháp danh là Thích Tiểu Long.', 'Năm 4 tuổi, tôi được mời đóng vai chính trong phim Huyền phong tiểu tử và bắt đầu sự nghiệp điện ảnh từ đó. Đến nay, với 12 năm theo nghiệp điện ảnh, tôi đã đóng rất nhiều bộ phim như Thời niên thiếu của Bao Thanh Thiên, Ô Long Viện, Thiếu Lâm tiểu tử, Hoàng đế 9 tuổi.... - Hiện tại, ngoài học văn hóa và luyện võ, anh rất rất bận rộn đóng phim, vậy một năm anh được ở cùng bố mẹ bao lâu?. - Tôi cũng không xác định được nữa.', 'Sống cùng bố mẹ hay xa bố mẹ hoàn toàn phụ thuộc vào việc đóng phim.']\n"
     ]
    }
   ],
   "source": [
    "print(full_data[:5])"
   ]
  },
  {
   "cell_type": "code",
   "execution_count": 5,
   "id": "4abad9f7",
   "metadata": {},
   "outputs": [],
   "source": [
    "# extract words and numbers in sentences\n",
    "def extract_words(sentence):\n",
    "    pattern = '[AĂÂÁẮẤÀẰẦẢẲẨÃẴẪẠẶẬĐEÊÉẾÈỀẺỂẼỄẸỆIÍÌỈĨỊ'+ \\\n",
    "            'OÔƠÓỐỚÒỒỜỎỔỞÕỖỠỌỘỢUƯÚỨÙỪỦỬŨỮỤỰYÝỲỶỸỴAĂÂÁẮẤÀẰẦẢẲẨÃẴẪẠẶẬ'+ \\\n",
    "            'ĐEÊÉẾÈỀẺỂẼỄẸỆIÍÌỈĨỊOÔƠÓỐỚÒỒỜỎỔỞÕỖỠỌỘỢUƯÚỨÙỪỦỬŨỮỤỰYÝỲỶỸỴ'+ \\\n",
    "            'AĂÂÁẮẤÀẰẦẢẲẨÃẴẪẠẶẬĐEÊÉẾÈỀẺỂẼỄẸỆIÍÌỈĨỊOÔƠÓỐỚÒỒỜỎỔỞÕỖỠỌỘỢ'+ \\\n",
    "            'UƯÚỨÙỪỦỬŨỮỤỰYÝỲỶỸỴAĂÂÁẮẤÀẰẦẢẲẨÃẴẪẠẶẬĐEÊÉẾÈỀẺỂẼỄẸỆIÍÌỈĨỊ'+ \\\n",
    "            'OÔƠÓỐỚÒỒỜỎỔỞÕỖỠỌỘỢUƯÚỨÙỪỦỬŨỮỤỰYÝỲỶỸỴAĂÂÁẮẤÀẰẦẢẲẨÃẴẪẠẶẬĐ'+ \\\n",
    "            'EÊÉẾÈỀẺỂẼỄẸỆIÍÌỈĨỊOÔƠÓỐỚÒỒỜỎỔỞÕỖỠỌỘỢUƯÚỨÙỪỦỬŨỮỤỰYÝỲỶỸỴ'+ \\\n",
    "            'AĂÂÁẮẤÀẰẦẢẲẨÃẴẪẠẶẬĐEÊÉẾÈỀẺỂẼỄẸỆIÍÌỈĨỊOÔƠÓỐỚÒỒỜỎỔỞÕỖỠỌỘỢ'+ \\\n",
    "            'UƯÚỨÙỪỦỬŨỮỤỰYÝỲỶỸỴA-Z' + '0-9' + ']+'\n",
    "    indicies = []\n",
    "    words = []\n",
    "    for m in re.finditer(pattern, sentence, re.IGNORECASE):\n",
    "        words.append(m.group(0))\n",
    "        indicies.append((m.start(0), m.end(0)))\n",
    "    \n",
    "    return words, indicies\n",
    "    "
   ]
  },
  {
   "cell_type": "code",
   "execution_count": 6,
   "id": "bfebc4e5",
   "metadata": {},
   "outputs": [
    {
     "name": "stderr",
     "output_type": "stream",
     "text": [
      "738597it [00:13, 55455.07it/s]\n"
     ]
    }
   ],
   "source": [
    "for i, sentence in tqdm(enumerate(full_data)):\n",
    "    words, indicies = extract_words(sentence)\n",
    "    full_data[i] = ' '.join(words)"
   ]
  },
  {
   "cell_type": "code",
   "execution_count": 7,
   "id": "df60aad4",
   "metadata": {},
   "outputs": [
    {
     "name": "stdout",
     "output_type": "stream",
     "text": [
      "['Thích Tiểu Long và những mơ ước trong cuộc sống', 'Khát vọng lớn nhất của ngôi sao điện ảnh 16 tuổi này là trở thành một minh tinh võ hiệp chinh phục kinh đô điện ảnh Hollywood', 'Bởi vậy ngay từ nhỏ Thích Tiểu Long đã lao vào tập luyện và trau dồi kiến thức để thực hiện giấc mơ lớn của mình Anh đến với điện ảnh từ khi nào Tôi sinh ra trong gia đình nhà võ tên thật của tôi là Trần Tiểu Long năm hơn 1 tuổi đã được bố cho đi học võ và lấy pháp danh là Thích Tiểu Long', 'Năm 4 tuổi tôi được mời đóng vai chính trong phim Huyền phong tiểu tử và bắt đầu sự nghiệp điện ảnh từ đó Đến nay với 12 năm theo nghiệp điện ảnh tôi đã đóng rất nhiều bộ phim như Thời niên thiếu của Bao Thanh Thiên Ô Long Viện Thiếu Lâm tiểu tử Hoàng đế 9 tuổi Hiện tại ngoài học văn hóa và luyện võ anh rất rất bận rộn đóng phim vậy một năm anh được ở cùng bố mẹ bao lâu Tôi cũng không xác định được nữa', 'Sống cùng bố mẹ hay xa bố mẹ hoàn toàn phụ thuộc vào việc đóng phim']\n"
     ]
    }
   ],
   "source": [
    "print(full_data[:5])"
   ]
  },
  {
   "cell_type": "code",
   "execution_count": 8,
   "id": "33ecc38c",
   "metadata": {},
   "outputs": [
    {
     "name": "stdout",
     "output_type": "stream",
     "text": [
      "738597\n"
     ]
    }
   ],
   "source": [
    "# remove empty line\n",
    "full_data = [line for line in full_data if len(line) > 0]\n",
    "print(len(full_data))"
   ]
  },
  {
   "cell_type": "code",
   "execution_count": 9,
   "id": "8ac87b28",
   "metadata": {},
   "outputs": [
    {
     "name": "stdout",
     "output_type": "stream",
     "text": [
      "['thích tiểu long và những mơ ước trong cuộc sống', 'khát vọng lớn nhất của ngôi sao điện ảnh 16 tuổi này là trở thành một minh tinh võ hiệp chinh phục kinh đô điện ảnh hollywood', 'bởi vậy ngay từ nhỏ thích tiểu long đã lao vào tập luyện và trau dồi kiến thức để thực hiện giấc mơ lớn của mình anh đến với điện ảnh từ khi nào tôi sinh ra trong gia đình nhà võ tên thật của tôi là trần tiểu long năm hơn 1 tuổi đã được bố cho đi học võ và lấy pháp danh là thích tiểu long', 'năm 4 tuổi tôi được mời đóng vai chính trong phim huyền phong tiểu tử và bắt đầu sự nghiệp điện ảnh từ đó đến nay với 12 năm theo nghiệp điện ảnh tôi đã đóng rất nhiều bộ phim như thời niên thiếu của bao thanh thiên ô long viện thiếu lâm tiểu tử hoàng đế 9 tuổi hiện tại ngoài học văn hóa và luyện võ anh rất rất bận rộn đóng phim vậy một năm anh được ở cùng bố mẹ bao lâu tôi cũng không xác định được nữa', 'sống cùng bố mẹ hay xa bố mẹ hoàn toàn phụ thuộc vào việc đóng phim']\n"
     ]
    }
   ],
   "source": [
    "# lowercase\n",
    "full_data = [line.lower() for line in full_data]\n",
    "print(full_data[:5])"
   ]
  },
  {
   "cell_type": "code",
   "execution_count": 10,
   "id": "a2fdf02f",
   "metadata": {},
   "outputs": [
    {
     "name": "stderr",
     "output_type": "stream",
     "text": [
      "738597it [00:01, 507281.95it/s]"
     ]
    },
    {
     "name": "stdout",
     "output_type": "stream",
     "text": [
      "659073\n",
      "['thích tiểu long và những mơ ước trong cuộc sống', 'khát vọng lớn nhất của ngôi sao điện ảnh 16 tuổi này là trở thành một minh tinh võ hiệp chinh phục kinh đô điện ảnh hollywood', 'bởi vậy ngay từ nhỏ thích tiểu long đã lao vào tập luyện và trau dồi kiến thức để thực hiện giấc mơ lớn của mình anh đến với điện ảnh từ khi nào tôi sinh ra trong gia đình nhà võ tên thật của tôi là trần tiểu long năm hơn 1 tuổi đã được bố cho đi học võ và lấy pháp danh là thích tiểu long', 'năm 4 tuổi tôi được mời đóng vai chính trong phim huyền phong tiểu tử và bắt đầu sự nghiệp điện ảnh từ đó đến nay với 12 năm theo nghiệp điện ảnh tôi đã đóng rất nhiều bộ phim như thời niên thiếu của bao thanh thiên ô long viện thiếu lâm tiểu tử hoàng đế 9 tuổi hiện tại ngoài học văn hóa và luyện võ anh rất rất bận rộn đóng phim vậy một năm anh được ở cùng bố mẹ bao lâu tôi cũng không xác định được nữa', 'sống cùng bố mẹ hay xa bố mẹ hoàn toàn phụ thuộc vào việc đóng phim']\n"
     ]
    },
    {
     "name": "stderr",
     "output_type": "stream",
     "text": [
      "\n"
     ]
    }
   ],
   "source": [
    "# remove sentences withe fewer than 10 words and greater than 200 words\n",
    "data = []\n",
    "for i, sentence in tqdm(enumerate(full_data)):\n",
    "    n_words = len(sentence.split(' '))\n",
    "    if n_words >= 10 and n_words <= 200:\n",
    "        data.append(sentence)\n",
    "\n",
    "print(len(data))\n",
    "print(data[:5])"
   ]
  },
  {
   "cell_type": "code",
   "execution_count": 11,
   "id": "c7f74692",
   "metadata": {},
   "outputs": [
    {
     "data": {
      "text/plain": [
       "'hom nay toi tre chuyen xe cuoi cung'"
      ]
     },
     "execution_count": 11,
     "metadata": {},
     "output_type": "execute_result"
    }
   ],
   "source": [
    "# remove diacritics\n",
    "def remove_tones(utf8_str):\n",
    "    intab_l = \"ạảãàáâậầấẩẫăắằặẳẵóòọõỏôộổỗồốơờớợởỡéèẻẹẽêếềệểễúùụủũưựữửừứíìịỉĩýỳỷỵỹđ\"\n",
    "    intab_u = \"ẠẢÃÀÁÂẬẦẤẨẪĂẮẰẶẲẴÓÒỌÕỎÔỘỔỖỒỐƠỜỚỢỞỠÉÈẺẸẼÊẾỀỆỂỄÚÙỤỦŨƯỰỮỬỪỨÍÌỊỈĨÝỲỶỴỸĐ\"\n",
    "    intab = [ch for ch in str(intab_l+intab_u)]\n",
    "\n",
    "    outtab_l = \"a\"*17 + \"o\"*17 + \"e\"*11 + \"u\"*11 + \"i\"*5 + \"y\"*5 + \"d\"\n",
    "    outtab_u = \"A\"*17 + \"O\"*17 + \"E\"*11 + \"U\"*11 + \"I\"*5 + \"Y\"*5 + \"D\"\n",
    "    outtab = outtab_l + outtab_u\n",
    "\n",
    "    r = re.compile(\"|\".join(intab))\n",
    "    replaces_dict = dict(zip(intab, outtab))\n",
    "\n",
    "    return r.sub(lambda m: replaces_dict[m.group(0)], utf8_str)\n",
    "\n",
    "\n",
    "remove_tones('hôm nay tôi trễ chuyến xe cuối cùng')"
   ]
  },
  {
   "cell_type": "code",
   "execution_count": 12,
   "id": "3f724ebe",
   "metadata": {},
   "outputs": [
    {
     "data": {
      "text/plain": [
       "{'chuyen', 'chuyên', 'chuyến', 'chuyền', 'chuyển', 'chuyễn', 'chuyện'}"
      ]
     },
     "execution_count": 12,
     "metadata": {},
     "output_type": "execute_result"
    }
   ],
   "source": [
    "# get all possible diacritics of a given word\n",
    "def get_all_tones(word):\n",
    "    word = remove_tones(word.lower())\n",
    "    words_with_tones = {word}\n",
    "    for w in open('vn_syllables.txt').read().splitlines():\n",
    "        no_tones = remove_tones(w.lower())\n",
    "        if no_tones == word:\n",
    "            words_with_tones.add(w)\n",
    "    \n",
    "    return words_with_tones\n",
    "\n",
    "get_all_tones('chuyen')"
   ]
  },
  {
   "cell_type": "code",
   "execution_count": 13,
   "id": "97889bfd",
   "metadata": {},
   "outputs": [
    {
     "data": {
      "text/plain": [
       "'ho6m nay to6i tre64 chuye61n xe cua61i cu2ng'"
      ]
     },
     "execution_count": 13,
     "metadata": {},
     "output_type": "execute_result"
    }
   ],
   "source": [
    "# normalize diacritics positions\n",
    "def normalize_tone(utf8_str):\n",
    "    intab_l = \"áàảãạâấầẩẫậăắằẳẵặđèéẻẽẹêếềểễệíìỉĩịóòỏõọôốồổỗộơớờởỡợúùủũụưứừửữựýỳỷỹỵ\"\n",
    "    intab_u = \"ÁÀẢÃẠÂẤẦẨẪẬĂẮẰẲẴẶĐÈÉẺẼẸÊẾỀỂỄỆÍÌỈĨỊÓÒỎÕỌÔỐỒỔỖỘƠỚỜỞỠỢÚÙỦŨỤƯỨỪỬỮỰÝỲỶỸỴ\"\n",
    "    intab = [ch for ch in str(intab_l + intab_u)]\n",
    "\n",
    "    outtab_l = [\n",
    "        \"a1\", \"a2\", \"a3\", \"a4\", \"a5\",\n",
    "        \"a6\", \"a61\", \"a62\", \"a63\", \"a64\", \"a65\",\n",
    "        \"a8\", \"a81\", \"a82\", \"a83\", \"a84\", \"a85\",\n",
    "        \"d9\",\n",
    "        \"e1\", \"e2\", \"e3\", \"e4\", \"e5\",\n",
    "        \"e6\", \"e61\", \"e62\", \"e63\", \"e64\", \"e65\",\n",
    "        \"i1\", \"i2\", \"i3\", \"i4\", \"i5\",\n",
    "        \"o1\", \"o2\", \"o3\", \"o4\", \"o5\",\n",
    "        \"o6\", \"a61\", \"o62\", \"o63\", \"o64\", \"o65\",\n",
    "        \"o7\", \"o71\", \"o72\", \"o73\", \"o74\", \"o75\",\n",
    "        \"u1\", \"u2\", \"u3\", \"u4\", \"u5\",\n",
    "        \"u7\", \"u71\", \"u72\", \"u73\", \"u74\", \"u75\",\n",
    "        \"y1\", \"y2\", \"y3\", \"y4\", \"y5\",\n",
    "    ]\n",
    "\n",
    "    outtab_u = [\n",
    "        \"A1\", \"A2\", \"A3\", \"A4\", \"A5\",\n",
    "        \"A6\", \"A61\", \"A62\", \"A63\", \"A64\", \"A65\",\n",
    "        \"A8\", \"A81\", \"A82\", \"A83\", \"A84\", \"A85\",\n",
    "        \"D9\",\n",
    "        \"E1\", \"E2\", \"E3\", \"E4\", \"E5\",\n",
    "        \"E6\", \"E61\", \"E62\", \"E63\", \"E64\", \"E65\",\n",
    "        \"I1\", \"I2\", \"I3\", \"I4\", \"I5\",\n",
    "        \"O1\", \"O2\", \"O3\", \"O4\", \"O5\",\n",
    "        \"O6\", \"O61\", \"O62\", \"O63\", \"O64\", \"O65\",\n",
    "        \"O7\", \"O71\", \"O72\", \"O73\", \"O74\", \"O75\",\n",
    "        \"U1\", \"U2\", \"U3\", \"U4\", \"U5\",\n",
    "        \"U7\", \"U71\", \"U72\", \"U73\", \"U74\", \"U75\",\n",
    "        \"Y1\", \"Y2\", \"Y3\", \"Y4\", \"Y5\",\n",
    "    ]\n",
    "\n",
    "    r = re.compile(\"|\".join(intab))\n",
    "    replaces_dict = dict(zip(intab, outtab_l + outtab_u))\n",
    "\n",
    "    return r.sub(lambda m: replaces_dict[m.group(0)], utf8_str)\n",
    "\n",
    "normalize_tone('hôm nay tôi trễ chuyến xe cuối cùng')"
   ]
  },
  {
   "cell_type": "code",
   "execution_count": 14,
   "id": "37fbc6b3",
   "metadata": {},
   "outputs": [
    {
     "name": "stdout",
     "output_type": "stream",
     "text": [
      "len(data)=659073\n",
      "train=100000\n",
      "dev=1000\n",
      "test=1000\n"
     ]
    }
   ],
   "source": [
    "# split data\n",
    "import random\n",
    "\n",
    "random.seed(42)\n",
    "random.shuffle(data)\n",
    "\n",
    "X = data\n",
    "y = [remove_tones(line) for line in X]\n",
    "\n",
    "X_dev = X[:1000]\n",
    "y_dev = y[:1000]\n",
    "\n",
    "X_test = X[1000:2000]\n",
    "y_test = y[1000:2000]\n",
    "\n",
    "X_train = X[2000:102000]\n",
    "y_train = y[2000:102000]\n",
    "\n",
    "print(f'len(data)={len(X)}')\n",
    "print(f'train={len(X_train)}')\n",
    "print(f'dev={len(X_dev)}')\n",
    "print(f'test={len(X_test)}')"
   ]
  },
  {
   "cell_type": "code",
   "execution_count": 15,
   "id": "c735e546",
   "metadata": {},
   "outputs": [
    {
     "name": "stdout",
     "output_type": "stream",
     "text": [
      "['cuộc săn lùng hai ngày qua của lính mỹ và quân đội iraq dẫn đến việc bắt giữ hơn 100 người tình nghi kháng chiến một quan chức tình báo của chế độ cũ và một người bị cho là liên quan đến vụ đánh bom tự sát hồi tháng trước đợt truy kích diễn ra trong lúc số lượng các cuộc tấn công nhằm vào liên quân tăng mạnh sau một thời gian dịu bớt', 'nhân viên ngân hàng thuộc thành phố chorzow đã gấp rút sơ tán khi một người phát hiện một mảnh giấy trong đó người viết doạ sẽ giết tất cả mọi người bằng một quả bom nếu ngân hàng không giao nộp 14 600 usd trong vòng 24 tiếng có vẻ như cậu bé 10 tuổi này đã phải đứng đợi với mẹ ở ngân hàng hôm trước', 'dự kiến thủ tướng sẽ có bài phát biểu giáng sinh với các binh lính anh', 'eriksson hôm qua 3 5 cho biết tiền đạo w', 'singapore ngược lại buộc phải thắng trận đấu cuối không dễ trước một myanmar đang cần một trận thắng danh dự và trông chờ indonesia sẩy chân trước lào']\n",
      "['cuoc san lung hai ngay qua cua linh my va quan doi iraq dan den viec bat giu hon 100 nguoi tinh nghi khang chien mot quan chuc tinh bao cua che do cu va mot nguoi bi cho la lien quan den vu danh bom tu sat hoi thang truoc dot truy kich dien ra trong luc so luong cac cuoc tan cong nham vao lien quan tang manh sau mot thoi gian diu bot', 'nhan vien ngan hang thuoc thanh pho chorzow da gap rut so tan khi mot nguoi phat hien mot manh giay trong do nguoi viet doa se giet tat ca moi nguoi bang mot qua bom neu ngan hang khong giao nop 14 600 usd trong vong 24 tieng co ve nhu cau be 10 tuoi nay da phai dung doi voi me o ngan hang hom truoc', 'du kien thu tuong se co bai phat bieu giang sinh voi cac binh linh anh', 'eriksson hom qua 3 5 cho biet tien dao w', 'singapore nguoc lai buoc phai thang tran dau cuoi khong de truoc mot myanmar dang can mot tran thang danh du va trong cho indonesia say chan truoc lao']\n"
     ]
    }
   ],
   "source": [
    "print(X_train[:5])\n",
    "print(y_train[:5])"
   ]
  },
  {
   "cell_type": "code",
   "execution_count": 16,
   "id": "adcfcab3",
   "metadata": {},
   "outputs": [],
   "source": [
    "with open('data/train.tone', 'w', encoding='utf-8') as f:\n",
    "    f.write('\\n'.join(X_train))\n",
    "    \n",
    "with open('data/train.notone', 'w', encoding='utf-8') as f:\n",
    "    f.write('\\n'.join(y_train))\n",
    "    \n",
    "with open('data/dev.tone', 'w', encoding='utf-8') as f:\n",
    "    f.write('\\n'.join(X_dev))\n",
    "    \n",
    "with open('data/dev.notone', 'w', encoding='utf-8') as f:\n",
    "    f.write('\\n'.join(y_dev))\n",
    "    \n",
    "with open('data/test.tone', 'w', encoding='utf-8') as f:\n",
    "    f.write('\\n'.join(X_test))\n",
    "    \n",
    "with open('data/test.notone', 'w', encoding='utf-8') as f:\n",
    "    f.write('\\n'.join(y_test))"
   ]
  },
  {
   "cell_type": "code",
   "execution_count": null,
   "id": "096e7a6a",
   "metadata": {},
   "outputs": [],
   "source": []
  }
 ],
 "metadata": {
  "kernelspec": {
   "display_name": "Python 3 (ipykernel)",
   "language": "python",
   "name": "python3"
  },
  "language_info": {
   "codemirror_mode": {
    "name": "ipython",
    "version": 3
   },
   "file_extension": ".py",
   "mimetype": "text/x-python",
   "name": "python",
   "nbconvert_exporter": "python",
   "pygments_lexer": "ipython3",
   "version": "3.9.7"
  }
 },
 "nbformat": 4,
 "nbformat_minor": 5
}
