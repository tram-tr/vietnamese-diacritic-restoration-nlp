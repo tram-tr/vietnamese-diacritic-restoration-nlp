{
 "cells": [
  {
   "cell_type": "code",
   "execution_count": 72,
   "id": "296f379e",
   "metadata": {},
   "outputs": [],
   "source": [
    "import os\n",
    "import re\n",
    "from nltk import word_tokenize, sent_tokenize\n",
    "import string\n",
    "from tqdm import tqdm \n",
    "from pprint import pprint\n",
    "import json"
   ]
  },
  {
   "cell_type": "code",
   "execution_count": 62,
   "id": "064dd92e",
   "metadata": {},
   "outputs": [],
   "source": [
    "raw_data = []\n",
    "for dir_name, _, file_names in os.walk('./raw_data'):\n",
    "    for file_name in file_names:\n",
    "        with open(os.path.join(dir_name, file_name), 'r', encoding='UTF-16') as f:\n",
    "            file_data = f.read()\n",
    "            file_data = file_data.replace('\\n', '. ')\n",
    "            raw_data.append(file_data)"
   ]
  },
  {
   "cell_type": "code",
   "execution_count": 63,
   "id": "404f8c61",
   "metadata": {},
   "outputs": [
    {
     "name": "stdout",
     "output_type": "stream",
     "text": [
      "42744\n"
     ]
    }
   ],
   "source": [
    "print(len(raw_data)) # number of raw data files "
   ]
  },
  {
   "cell_type": "code",
   "execution_count": 64,
   "id": "133c4cf1",
   "metadata": {},
   "outputs": [
    {
     "name": "stdout",
     "output_type": "stream",
     "text": [
      "738597\n"
     ]
    }
   ],
   "source": [
    "# split data into sentences\n",
    "full_data = '. '.join(raw_data)\n",
    "full_data = full_data.replace('\\n', '. ')\n",
    "full_data = re.split(r'(?<=[^A-Z].[.?]) +(?=[A-Z])', full_data)\n",
    "print(len(full_data)) # number of raw sentences"
   ]
  },
  {
   "cell_type": "code",
   "execution_count": 65,
   "id": "2c236764",
   "metadata": {},
   "outputs": [
    {
     "name": "stdout",
     "output_type": "stream",
     "text": [
      "['Thích Tiểu Long và những mơ ước trong cuộc sống.', 'Khát vọng lớn nhất của ngôi sao điện ảnh 16 tuổi này là trở thành một minh tinh võ hiệp, chinh phục kinh đô điện ảnh Hollywood.', 'Bởi vậy, ngay từ nhỏ, Thích Tiểu Long đã lao vào tập luyện và trau dồi kiến thức để thực hiện giấc mơ lớn của mình.. - Anh đến với điện ảnh từ khi nào?. - Tôi sinh ra trong gia đình nhà võ, tên thật của tôi là Trần Tiểu Long, năm hơn 1 tuổi đã được bố cho đi học võ và lấy pháp danh là Thích Tiểu Long.', 'Năm 4 tuổi, tôi được mời đóng vai chính trong phim Huyền phong tiểu tử và bắt đầu sự nghiệp điện ảnh từ đó. Đến nay, với 12 năm theo nghiệp điện ảnh, tôi đã đóng rất nhiều bộ phim như Thời niên thiếu của Bao Thanh Thiên, Ô Long Viện, Thiếu Lâm tiểu tử, Hoàng đế 9 tuổi.... - Hiện tại, ngoài học văn hóa và luyện võ, anh rất rất bận rộn đóng phim, vậy một năm anh được ở cùng bố mẹ bao lâu?. - Tôi cũng không xác định được nữa.', 'Sống cùng bố mẹ hay xa bố mẹ hoàn toàn phụ thuộc vào việc đóng phim.']\n"
     ]
    }
   ],
   "source": [
    "print(full_data[:5])"
   ]
  },
  {
   "cell_type": "code",
   "execution_count": 66,
   "id": "f5221b06",
   "metadata": {},
   "outputs": [],
   "source": [
    "# extract words and numbers in sentences\n",
    "def extract_words(sentence):\n",
    "    pattern = '[AĂÂÁẮẤÀẰẦẢẲẨÃẴẪẠẶẬĐEÊÉẾÈỀẺỂẼỄẸỆIÍÌỈĨỊ'+ \\\n",
    "            'OÔƠÓỐỚÒỒỜỎỔỞÕỖỠỌỘỢUƯÚỨÙỪỦỬŨỮỤỰYÝỲỶỸỴAĂÂÁẮẤÀẰẦẢẲẨÃẴẪẠẶẬ'+ \\\n",
    "            'ĐEÊÉẾÈỀẺỂẼỄẸỆIÍÌỈĨỊOÔƠÓỐỚÒỒỜỎỔỞÕỖỠỌỘỢUƯÚỨÙỪỦỬŨỮỤỰYÝỲỶỸỴ'+ \\\n",
    "            'AĂÂÁẮẤÀẰẦẢẲẨÃẴẪẠẶẬĐEÊÉẾÈỀẺỂẼỄẸỆIÍÌỈĨỊOÔƠÓỐỚÒỒỜỎỔỞÕỖỠỌỘỢ'+ \\\n",
    "            'UƯÚỨÙỪỦỬŨỮỤỰYÝỲỶỸỴAĂÂÁẮẤÀẰẦẢẲẨÃẴẪẠẶẬĐEÊÉẾÈỀẺỂẼỄẸỆIÍÌỈĨỊ'+ \\\n",
    "            'OÔƠÓỐỚÒỒỜỎỔỞÕỖỠỌỘỢUƯÚỨÙỪỦỬŨỮỤỰYÝỲỶỸỴAĂÂÁẮẤÀẰẦẢẲẨÃẴẪẠẶẬĐ'+ \\\n",
    "            'EÊÉẾÈỀẺỂẼỄẸỆIÍÌỈĨỊOÔƠÓỐỚÒỒỜỎỔỞÕỖỠỌỘỢUƯÚỨÙỪỦỬŨỮỤỰYÝỲỶỸỴ'+ \\\n",
    "            'AĂÂÁẮẤÀẰẦẢẲẨÃẴẪẠẶẬĐEÊÉẾÈỀẺỂẼỄẸỆIÍÌỈĨỊOÔƠÓỐỚÒỒỜỎỔỞÕỖỠỌỘỢ'+ \\\n",
    "            'UƯÚỨÙỪỦỬŨỮỤỰYÝỲỶỸỴA-Z' + '0-9' + ']+'\n",
    "    indicies = []\n",
    "    words = []\n",
    "    for m in re.finditer(pattern, sentence, re.IGNORECASE):\n",
    "        words.append(m.group(0))\n",
    "        indicies.append((m.start(0), m.end(0)))\n",
    "    \n",
    "    return words, indicies\n",
    "    "
   ]
  },
  {
   "cell_type": "code",
   "execution_count": 67,
   "id": "0c15e4bb",
   "metadata": {},
   "outputs": [
    {
     "name": "stderr",
     "output_type": "stream",
     "text": [
      "738597it [00:14, 50090.84it/s]\n"
     ]
    }
   ],
   "source": [
    "for i, sentence in tqdm(enumerate(full_data)):\n",
    "    words, indicies = extract_words(sentence)\n",
    "    full_data[i] = ' '.join(words)"
   ]
  },
  {
   "cell_type": "code",
   "execution_count": 68,
   "id": "d7b1ac32",
   "metadata": {},
   "outputs": [
    {
     "name": "stdout",
     "output_type": "stream",
     "text": [
      "['Thích Tiểu Long và những mơ ước trong cuộc sống', 'Khát vọng lớn nhất của ngôi sao điện ảnh 16 tuổi này là trở thành một minh tinh võ hiệp chinh phục kinh đô điện ảnh Hollywood', 'Bởi vậy ngay từ nhỏ Thích Tiểu Long đã lao vào tập luyện và trau dồi kiến thức để thực hiện giấc mơ lớn của mình Anh đến với điện ảnh từ khi nào Tôi sinh ra trong gia đình nhà võ tên thật của tôi là Trần Tiểu Long năm hơn 1 tuổi đã được bố cho đi học võ và lấy pháp danh là Thích Tiểu Long', 'Năm 4 tuổi tôi được mời đóng vai chính trong phim Huyền phong tiểu tử và bắt đầu sự nghiệp điện ảnh từ đó Đến nay với 12 năm theo nghiệp điện ảnh tôi đã đóng rất nhiều bộ phim như Thời niên thiếu của Bao Thanh Thiên Ô Long Viện Thiếu Lâm tiểu tử Hoàng đế 9 tuổi Hiện tại ngoài học văn hóa và luyện võ anh rất rất bận rộn đóng phim vậy một năm anh được ở cùng bố mẹ bao lâu Tôi cũng không xác định được nữa', 'Sống cùng bố mẹ hay xa bố mẹ hoàn toàn phụ thuộc vào việc đóng phim']\n"
     ]
    }
   ],
   "source": [
    "print(full_data[:5])"
   ]
  },
  {
   "cell_type": "code",
   "execution_count": 69,
   "id": "935e4884",
   "metadata": {},
   "outputs": [
    {
     "name": "stdout",
     "output_type": "stream",
     "text": [
      "738597\n"
     ]
    }
   ],
   "source": [
    "# remove empty line\n",
    "full_data = [line for line in full_data if len(line) > 0]\n",
    "print(len(full_data))"
   ]
  },
  {
   "cell_type": "code",
   "execution_count": 70,
   "id": "bcd30463",
   "metadata": {},
   "outputs": [
    {
     "name": "stdout",
     "output_type": "stream",
     "text": [
      "['thích tiểu long và những mơ ước trong cuộc sống', 'khát vọng lớn nhất của ngôi sao điện ảnh 16 tuổi này là trở thành một minh tinh võ hiệp chinh phục kinh đô điện ảnh hollywood', 'bởi vậy ngay từ nhỏ thích tiểu long đã lao vào tập luyện và trau dồi kiến thức để thực hiện giấc mơ lớn của mình anh đến với điện ảnh từ khi nào tôi sinh ra trong gia đình nhà võ tên thật của tôi là trần tiểu long năm hơn 1 tuổi đã được bố cho đi học võ và lấy pháp danh là thích tiểu long', 'năm 4 tuổi tôi được mời đóng vai chính trong phim huyền phong tiểu tử và bắt đầu sự nghiệp điện ảnh từ đó đến nay với 12 năm theo nghiệp điện ảnh tôi đã đóng rất nhiều bộ phim như thời niên thiếu của bao thanh thiên ô long viện thiếu lâm tiểu tử hoàng đế 9 tuổi hiện tại ngoài học văn hóa và luyện võ anh rất rất bận rộn đóng phim vậy một năm anh được ở cùng bố mẹ bao lâu tôi cũng không xác định được nữa', 'sống cùng bố mẹ hay xa bố mẹ hoàn toàn phụ thuộc vào việc đóng phim']\n"
     ]
    }
   ],
   "source": [
    "# lowercase\n",
    "full_data = [line.lower() for line in full_data]\n",
    "print(full_data[:5])"
   ]
  },
  {
   "cell_type": "code",
   "execution_count": 71,
   "id": "243c0d5a",
   "metadata": {},
   "outputs": [
    {
     "name": "stderr",
     "output_type": "stream",
     "text": [
      "738597it [00:01, 400056.50it/s]"
     ]
    },
    {
     "name": "stdout",
     "output_type": "stream",
     "text": [
      "659073\n",
      "['thích tiểu long và những mơ ước trong cuộc sống', 'khát vọng lớn nhất của ngôi sao điện ảnh 16 tuổi này là trở thành một minh tinh võ hiệp chinh phục kinh đô điện ảnh hollywood', 'bởi vậy ngay từ nhỏ thích tiểu long đã lao vào tập luyện và trau dồi kiến thức để thực hiện giấc mơ lớn của mình anh đến với điện ảnh từ khi nào tôi sinh ra trong gia đình nhà võ tên thật của tôi là trần tiểu long năm hơn 1 tuổi đã được bố cho đi học võ và lấy pháp danh là thích tiểu long', 'năm 4 tuổi tôi được mời đóng vai chính trong phim huyền phong tiểu tử và bắt đầu sự nghiệp điện ảnh từ đó đến nay với 12 năm theo nghiệp điện ảnh tôi đã đóng rất nhiều bộ phim như thời niên thiếu của bao thanh thiên ô long viện thiếu lâm tiểu tử hoàng đế 9 tuổi hiện tại ngoài học văn hóa và luyện võ anh rất rất bận rộn đóng phim vậy một năm anh được ở cùng bố mẹ bao lâu tôi cũng không xác định được nữa', 'sống cùng bố mẹ hay xa bố mẹ hoàn toàn phụ thuộc vào việc đóng phim']\n"
     ]
    },
    {
     "name": "stderr",
     "output_type": "stream",
     "text": [
      "\n"
     ]
    }
   ],
   "source": [
    "# remove sentences withe fewer than 10 words and greater than 200 words\n",
    "data = []\n",
    "for i, sentence in tqdm(enumerate(full_data)):\n",
    "    n_words = len(sentence.split(' '))\n",
    "    if n_words >= 10 and n_words <= 200:\n",
    "        data.append(sentence)\n",
    "\n",
    "print(len(data))\n",
    "print(data[:5])"
   ]
  },
  {
   "cell_type": "code",
   "execution_count": 86,
   "id": "1f9f4b81",
   "metadata": {},
   "outputs": [
    {
     "data": {
      "text/plain": [
       "'hom nay toi tre chuyen xe cuoi cung'"
      ]
     },
     "execution_count": 86,
     "metadata": {},
     "output_type": "execute_result"
    }
   ],
   "source": [
    "# remove diacritics\n",
    "def remove_tones(utf8_str):\n",
    "    intab_l = \"ạảãàáâậầấẩẫăắằặẳẵóòọõỏôộổỗồốơờớợởỡéèẻẹẽêếềệểễúùụủũưựữửừứíìịỉĩýỳỷỵỹđ\"\n",
    "    intab_u = \"ẠẢÃÀÁÂẬẦẤẨẪĂẮẰẶẲẴÓÒỌÕỎÔỘỔỖỒỐƠỜỚỢỞỠÉÈẺẸẼÊẾỀỆỂỄÚÙỤỦŨƯỰỮỬỪỨÍÌỊỈĨÝỲỶỴỸĐ\"\n",
    "    intab = [ch for ch in str(intab_l+intab_u)]\n",
    "\n",
    "    outtab_l = \"a\"*17 + \"o\"*17 + \"e\"*11 + \"u\"*11 + \"i\"*5 + \"y\"*5 + \"d\"\n",
    "    outtab_u = \"A\"*17 + \"O\"*17 + \"E\"*11 + \"U\"*11 + \"I\"*5 + \"Y\"*5 + \"D\"\n",
    "    outtab = outtab_l + outtab_u\n",
    "\n",
    "    r = re.compile(\"|\".join(intab))\n",
    "    replaces_dict = dict(zip(intab, outtab))\n",
    "\n",
    "    return r.sub(lambda m: replaces_dict[m.group(0)], utf8_str)\n",
    "\n",
    "\n",
    "remove_tones('hôm nay tôi trễ chuyến xe cuối cùng')"
   ]
  },
  {
   "cell_type": "code",
   "execution_count": 87,
   "id": "0dc66ee7",
   "metadata": {},
   "outputs": [
    {
     "data": {
      "text/plain": [
       "{'chuyen', 'chuyên', 'chuyến', 'chuyền', 'chuyển', 'chuyễn', 'chuyện'}"
      ]
     },
     "execution_count": 87,
     "metadata": {},
     "output_type": "execute_result"
    }
   ],
   "source": [
    "# get all possible diacritics of a given word\n",
    "def get_all_tones(word):\n",
    "    word = remove_tones(word.lower())\n",
    "    words_with_tones = {word}\n",
    "    for w in open('vn_syllables.txt').read().splitlines():\n",
    "        no_tones = remove_tones(w.lower())\n",
    "        if no_tones == word:\n",
    "            words_with_tones.add(w)\n",
    "    \n",
    "    return words_with_tones\n",
    "\n",
    "get_all_tones('chuyen')"
   ]
  },
  {
   "cell_type": "code",
   "execution_count": 89,
   "id": "ee9af329",
   "metadata": {},
   "outputs": [
    {
     "name": "stdout",
     "output_type": "stream",
     "text": [
      "len(data)=659073\n",
      "train=100000\n",
      "dev=10000\n",
      "test=10000\n"
     ]
    }
   ],
   "source": [
    "# split data\n",
    "import random\n",
    "\n",
    "random.seed(42)\n",
    "random.shuffle(data)\n",
    "\n",
    "X = data\n",
    "y = [remove_tones(line) for line in X]\n",
    "\n",
    "X_dev = X[:10000]\n",
    "y_dev = y[:10000]\n",
    "\n",
    "X_test = X[10000:20000]\n",
    "y_test = y[10000:20000]\n",
    "\n",
    "X_train = X[20000:120000]\n",
    "y_train = y[20000:120000]\n",
    "\n",
    "print(f'len(data)={len(X)}')\n",
    "print(f'train={len(X_train)}')\n",
    "print(f'dev={len(X_dev)}')\n",
    "print(f'test={len(X_test)}')"
   ]
  },
  {
   "cell_type": "code",
   "execution_count": 90,
   "id": "fab8cdb5",
   "metadata": {},
   "outputs": [],
   "source": [
    "with open('data/train.tone', 'w', encoding='utf-8') as f:\n",
    "    f.write('\\n'.join(X_train))\n",
    "    \n",
    "with open('data/train.notone', 'w', encoding='utf-8') as f:\n",
    "    f.write('\\n'.join(y_train))\n",
    "    \n",
    "with open('data/dev.tone', 'w', encoding='utf-8') as f:\n",
    "    f.write('\\n'.join(X_dev))\n",
    "    \n",
    "with open('data/dev.notone', 'w', encoding='utf-8') as f:\n",
    "    f.write('\\n'.join(y_dev))\n",
    "    \n",
    "with open('data/test.tone', 'w', encoding='utf-8') as f:\n",
    "    f.write('\\n'.join(X_test))\n",
    "    \n",
    "with open('data/test.notone', 'w', encoding='utf-8') as f:\n",
    "    f.write('\\n'.join(y_test))"
   ]
  },
  {
   "cell_type": "code",
   "execution_count": null,
   "id": "5a2d944b",
   "metadata": {},
   "outputs": [],
   "source": []
  }
 ],
 "metadata": {
  "kernelspec": {
   "display_name": "Python 3 (ipykernel)",
   "language": "python",
   "name": "python3"
  },
  "language_info": {
   "codemirror_mode": {
    "name": "ipython",
    "version": 3
   },
   "file_extension": ".py",
   "mimetype": "text/x-python",
   "name": "python",
   "nbconvert_exporter": "python",
   "pygments_lexer": "ipython3",
   "version": "3.9.7"
  }
 },
 "nbformat": 4,
 "nbformat_minor": 5
}
