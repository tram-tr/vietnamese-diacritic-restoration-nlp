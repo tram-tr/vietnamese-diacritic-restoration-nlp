{
 "cells": [
  {
   "cell_type": "code",
   "execution_count": 1,
   "id": "296f379e",
   "metadata": {},
   "outputs": [],
   "source": [
    "import os\n",
    "import re\n",
    "from nltk import word_tokenize, sent_tokenize\n",
    "import string\n",
    "from tqdm import tqdm \n",
    "from pprint import pprint\n",
    "import json"
   ]
  },
  {
   "cell_type": "code",
   "execution_count": 4,
   "id": "93390c7a",
   "metadata": {},
   "outputs": [
    {
     "ename": "UnicodeDecodeError",
     "evalue": "'utf-8' codec can't decode byte 0x80 in position 3131: invalid start byte",
     "output_type": "error",
     "traceback": [
      "\u001b[0;31m---------------------------------------------------------------------------\u001b[0m",
      "\u001b[0;31mUnicodeDecodeError\u001b[0m                        Traceback (most recent call last)",
      "\u001b[0;32m/var/folders/ql/d1z_fqp10gb53bzr2t6z1bw80000gn/T/ipykernel_51280/2451230925.py\u001b[0m in \u001b[0;36m<module>\u001b[0;34m\u001b[0m\n\u001b[1;32m      3\u001b[0m     \u001b[0;32mfor\u001b[0m \u001b[0mfile_name\u001b[0m \u001b[0;32min\u001b[0m \u001b[0mfile_names\u001b[0m\u001b[0;34m:\u001b[0m\u001b[0;34m\u001b[0m\u001b[0;34m\u001b[0m\u001b[0m\n\u001b[1;32m      4\u001b[0m         \u001b[0;32mwith\u001b[0m \u001b[0mopen\u001b[0m\u001b[0;34m(\u001b[0m\u001b[0mos\u001b[0m\u001b[0;34m.\u001b[0m\u001b[0mpath\u001b[0m\u001b[0;34m.\u001b[0m\u001b[0mjoin\u001b[0m\u001b[0;34m(\u001b[0m\u001b[0mdir_name\u001b[0m\u001b[0;34m,\u001b[0m \u001b[0mfile_name\u001b[0m\u001b[0;34m)\u001b[0m\u001b[0;34m,\u001b[0m \u001b[0;34m'r'\u001b[0m\u001b[0;34m)\u001b[0m \u001b[0;32mas\u001b[0m \u001b[0mf\u001b[0m\u001b[0;34m:\u001b[0m\u001b[0;34m\u001b[0m\u001b[0;34m\u001b[0m\u001b[0m\n\u001b[0;32m----> 5\u001b[0;31m             \u001b[0mfile_data\u001b[0m \u001b[0;34m=\u001b[0m \u001b[0mf\u001b[0m\u001b[0;34m.\u001b[0m\u001b[0mread\u001b[0m\u001b[0;34m(\u001b[0m\u001b[0;34m)\u001b[0m\u001b[0;34m\u001b[0m\u001b[0;34m\u001b[0m\u001b[0m\n\u001b[0m\u001b[1;32m      6\u001b[0m             \u001b[0mfile_data\u001b[0m \u001b[0;34m=\u001b[0m \u001b[0mfile_data\u001b[0m\u001b[0;34m.\u001b[0m\u001b[0mreplace\u001b[0m\u001b[0;34m(\u001b[0m\u001b[0;34m'\\n'\u001b[0m\u001b[0;34m,\u001b[0m \u001b[0;34m'. '\u001b[0m\u001b[0;34m)\u001b[0m\u001b[0;34m\u001b[0m\u001b[0;34m\u001b[0m\u001b[0m\n\u001b[1;32m      7\u001b[0m             \u001b[0mraw_data\u001b[0m\u001b[0;34m.\u001b[0m\u001b[0mappend\u001b[0m\u001b[0;34m(\u001b[0m\u001b[0mfile_data\u001b[0m\u001b[0;34m)\u001b[0m\u001b[0;34m\u001b[0m\u001b[0;34m\u001b[0m\u001b[0m\n",
      "\u001b[0;32m~/opt/anaconda3/envs/myenv/lib/python3.9/codecs.py\u001b[0m in \u001b[0;36mdecode\u001b[0;34m(self, input, final)\u001b[0m\n\u001b[1;32m    320\u001b[0m         \u001b[0;31m# decode input (taking the buffer into account)\u001b[0m\u001b[0;34m\u001b[0m\u001b[0;34m\u001b[0m\u001b[0m\n\u001b[1;32m    321\u001b[0m         \u001b[0mdata\u001b[0m \u001b[0;34m=\u001b[0m \u001b[0mself\u001b[0m\u001b[0;34m.\u001b[0m\u001b[0mbuffer\u001b[0m \u001b[0;34m+\u001b[0m \u001b[0minput\u001b[0m\u001b[0;34m\u001b[0m\u001b[0;34m\u001b[0m\u001b[0m\n\u001b[0;32m--> 322\u001b[0;31m         \u001b[0;34m(\u001b[0m\u001b[0mresult\u001b[0m\u001b[0;34m,\u001b[0m \u001b[0mconsumed\u001b[0m\u001b[0;34m)\u001b[0m \u001b[0;34m=\u001b[0m \u001b[0mself\u001b[0m\u001b[0;34m.\u001b[0m\u001b[0m_buffer_decode\u001b[0m\u001b[0;34m(\u001b[0m\u001b[0mdata\u001b[0m\u001b[0;34m,\u001b[0m \u001b[0mself\u001b[0m\u001b[0;34m.\u001b[0m\u001b[0merrors\u001b[0m\u001b[0;34m,\u001b[0m \u001b[0mfinal\u001b[0m\u001b[0;34m)\u001b[0m\u001b[0;34m\u001b[0m\u001b[0;34m\u001b[0m\u001b[0m\n\u001b[0m\u001b[1;32m    323\u001b[0m         \u001b[0;31m# keep undecoded input until the next call\u001b[0m\u001b[0;34m\u001b[0m\u001b[0;34m\u001b[0m\u001b[0m\n\u001b[1;32m    324\u001b[0m         \u001b[0mself\u001b[0m\u001b[0;34m.\u001b[0m\u001b[0mbuffer\u001b[0m \u001b[0;34m=\u001b[0m \u001b[0mdata\u001b[0m\u001b[0;34m[\u001b[0m\u001b[0mconsumed\u001b[0m\u001b[0;34m:\u001b[0m\u001b[0;34m]\u001b[0m\u001b[0;34m\u001b[0m\u001b[0;34m\u001b[0m\u001b[0m\n",
      "\u001b[0;31mUnicodeDecodeError\u001b[0m: 'utf-8' codec can't decode byte 0x80 in position 3131: invalid start byte"
     ]
    }
   ],
   "source": [
    "raw_data = []\n",
    "for dir_name, _, file_names in os.walk('./raw_data'):\n",
    "    for file_name in file_names:\n",
    "        with open(os.path.join(dir_name, file_name), 'r') as f:\n",
    "            file_data = f.read()\n",
    "            file_data = file_data.replace('\\n', '. ')\n",
    "            raw_data.append(file_data)"
   ]
  },
  {
   "cell_type": "code",
   "execution_count": 3,
   "id": "f1ad7e2a",
   "metadata": {},
   "outputs": [
    {
     "name": "stdout",
     "output_type": "stream",
     "text": [
      "42744\n"
     ]
    }
   ],
   "source": [
    "print(len(raw_data)) # number of raw data files "
   ]
  },
  {
   "cell_type": "code",
   "execution_count": 4,
   "id": "133c4cf1",
   "metadata": {},
   "outputs": [
    {
     "name": "stdout",
     "output_type": "stream",
     "text": [
      "738597\n"
     ]
    }
   ],
   "source": [
    "# split data into sentences\n",
    "full_data = '. '.join(raw_data)\n",
    "full_data = full_data.replace('\\n', '. ')\n",
    "full_data = re.split(r'(?<=[^A-Z].[.?]) +(?=[A-Z])', full_data)\n",
    "print(len(full_data)) # number of raw sentences"
   ]
  },
  {
   "cell_type": "code",
   "execution_count": 5,
   "id": "2c236764",
   "metadata": {},
   "outputs": [
    {
     "name": "stdout",
     "output_type": "stream",
     "text": [
      "['Thích Tiểu Long và những mơ ước trong cuộc sống.', 'Khát vọng lớn nhất của ngôi sao điện ảnh 16 tuổi này là trở thành một minh tinh võ hiệp, chinh phục kinh đô điện ảnh Hollywood.', 'Bởi vậy, ngay từ nhỏ, Thích Tiểu Long đã lao vào tập luyện và trau dồi kiến thức để thực hiện giấc mơ lớn của mình.. - Anh đến với điện ảnh từ khi nào?. - Tôi sinh ra trong gia đình nhà võ, tên thật của tôi là Trần Tiểu Long, năm hơn 1 tuổi đã được bố cho đi học võ và lấy pháp danh là Thích Tiểu Long.', 'Năm 4 tuổi, tôi được mời đóng vai chính trong phim Huyền phong tiểu tử và bắt đầu sự nghiệp điện ảnh từ đó. Đến nay, với 12 năm theo nghiệp điện ảnh, tôi đã đóng rất nhiều bộ phim như Thời niên thiếu của Bao Thanh Thiên, Ô Long Viện, Thiếu Lâm tiểu tử, Hoàng đế 9 tuổi.... - Hiện tại, ngoài học văn hóa và luyện võ, anh rất rất bận rộn đóng phim, vậy một năm anh được ở cùng bố mẹ bao lâu?. - Tôi cũng không xác định được nữa.', 'Sống cùng bố mẹ hay xa bố mẹ hoàn toàn phụ thuộc vào việc đóng phim.']\n"
     ]
    }
   ],
   "source": [
    "print(full_data[:5])"
   ]
  },
  {
   "cell_type": "code",
   "execution_count": 6,
   "id": "4abad9f7",
   "metadata": {},
   "outputs": [],
   "source": [
    "# extract words and numbers in sentences\n",
    "def extract_words(sentence):\n",
    "    pattern = '[AĂÂÁẮẤÀẰẦẢẲẨÃẴẪẠẶẬĐEÊÉẾÈỀẺỂẼỄẸỆIÍÌỈĨỊ'+ \\\n",
    "            'OÔƠÓỐỚÒỒỜỎỔỞÕỖỠỌỘỢUƯÚỨÙỪỦỬŨỮỤỰYÝỲỶỸỴAĂÂÁẮẤÀẰẦẢẲẨÃẴẪẠẶẬ'+ \\\n",
    "            'ĐEÊÉẾÈỀẺỂẼỄẸỆIÍÌỈĨỊOÔƠÓỐỚÒỒỜỎỔỞÕỖỠỌỘỢUƯÚỨÙỪỦỬŨỮỤỰYÝỲỶỸỴ'+ \\\n",
    "            'AĂÂÁẮẤÀẰẦẢẲẨÃẴẪẠẶẬĐEÊÉẾÈỀẺỂẼỄẸỆIÍÌỈĨỊOÔƠÓỐỚÒỒỜỎỔỞÕỖỠỌỘỢ'+ \\\n",
    "            'UƯÚỨÙỪỦỬŨỮỤỰYÝỲỶỸỴAĂÂÁẮẤÀẰẦẢẲẨÃẴẪẠẶẬĐEÊÉẾÈỀẺỂẼỄẸỆIÍÌỈĨỊ'+ \\\n",
    "            'OÔƠÓỐỚÒỒỜỎỔỞÕỖỠỌỘỢUƯÚỨÙỪỦỬŨỮỤỰYÝỲỶỸỴAĂÂÁẮẤÀẰẦẢẲẨÃẴẪẠẶẬĐ'+ \\\n",
    "            'EÊÉẾÈỀẺỂẼỄẸỆIÍÌỈĨỊOÔƠÓỐỚÒỒỜỎỔỞÕỖỠỌỘỢUƯÚỨÙỪỦỬŨỮỤỰYÝỲỶỸỴ'+ \\\n",
    "            'AĂÂÁẮẤÀẰẦẢẲẨÃẴẪẠẶẬĐEÊÉẾÈỀẺỂẼỄẸỆIÍÌỈĨỊOÔƠÓỐỚÒỒỜỎỔỞÕỖỠỌỘỢ'+ \\\n",
    "            'UƯÚỨÙỪỦỬŨỮỤỰYÝỲỶỸỴA-Z' + '0-9' + ']+'\n",
    "    indicies = []\n",
    "    words = []\n",
    "    for m in re.finditer(pattern, sentence, re.IGNORECASE):\n",
    "        words.append(m.group(0))\n",
    "        indicies.append((m.start(0), m.end(0)))\n",
    "    \n",
    "    return words, indicies\n",
    "    "
   ]
  },
  {
   "cell_type": "code",
   "execution_count": 7,
   "id": "bfebc4e5",
   "metadata": {},
   "outputs": [
    {
     "name": "stderr",
     "output_type": "stream",
     "text": [
      "738597it [00:14, 50269.12it/s]\n"
     ]
    }
   ],
   "source": [
    "for i, sentence in tqdm(enumerate(full_data)):\n",
    "    words, indicies = extract_words(sentence)\n",
    "    full_data[i] = ' '.join(words)"
   ]
  },
  {
   "cell_type": "code",
   "execution_count": 8,
   "id": "df60aad4",
   "metadata": {},
   "outputs": [
    {
     "name": "stdout",
     "output_type": "stream",
     "text": [
      "['Thích Tiểu Long và những mơ ước trong cuộc sống', 'Khát vọng lớn nhất của ngôi sao điện ảnh 16 tuổi này là trở thành một minh tinh võ hiệp chinh phục kinh đô điện ảnh Hollywood', 'Bởi vậy ngay từ nhỏ Thích Tiểu Long đã lao vào tập luyện và trau dồi kiến thức để thực hiện giấc mơ lớn của mình Anh đến với điện ảnh từ khi nào Tôi sinh ra trong gia đình nhà võ tên thật của tôi là Trần Tiểu Long năm hơn 1 tuổi đã được bố cho đi học võ và lấy pháp danh là Thích Tiểu Long', 'Năm 4 tuổi tôi được mời đóng vai chính trong phim Huyền phong tiểu tử và bắt đầu sự nghiệp điện ảnh từ đó Đến nay với 12 năm theo nghiệp điện ảnh tôi đã đóng rất nhiều bộ phim như Thời niên thiếu của Bao Thanh Thiên Ô Long Viện Thiếu Lâm tiểu tử Hoàng đế 9 tuổi Hiện tại ngoài học văn hóa và luyện võ anh rất rất bận rộn đóng phim vậy một năm anh được ở cùng bố mẹ bao lâu Tôi cũng không xác định được nữa', 'Sống cùng bố mẹ hay xa bố mẹ hoàn toàn phụ thuộc vào việc đóng phim']\n"
     ]
    }
   ],
   "source": [
    "print(full_data[:5])"
   ]
  },
  {
   "cell_type": "code",
   "execution_count": 9,
   "id": "33ecc38c",
   "metadata": {},
   "outputs": [
    {
     "name": "stdout",
     "output_type": "stream",
     "text": [
      "738597\n"
     ]
    }
   ],
   "source": [
    "# remove empty line\n",
    "full_data = [line for line in full_data if len(line) > 0]\n",
    "print(len(full_data))"
   ]
  },
  {
   "cell_type": "code",
   "execution_count": 10,
   "id": "8ac87b28",
   "metadata": {},
   "outputs": [
    {
     "name": "stdout",
     "output_type": "stream",
     "text": [
      "['thích tiểu long và những mơ ước trong cuộc sống', 'khát vọng lớn nhất của ngôi sao điện ảnh 16 tuổi này là trở thành một minh tinh võ hiệp chinh phục kinh đô điện ảnh hollywood', 'bởi vậy ngay từ nhỏ thích tiểu long đã lao vào tập luyện và trau dồi kiến thức để thực hiện giấc mơ lớn của mình anh đến với điện ảnh từ khi nào tôi sinh ra trong gia đình nhà võ tên thật của tôi là trần tiểu long năm hơn 1 tuổi đã được bố cho đi học võ và lấy pháp danh là thích tiểu long', 'năm 4 tuổi tôi được mời đóng vai chính trong phim huyền phong tiểu tử và bắt đầu sự nghiệp điện ảnh từ đó đến nay với 12 năm theo nghiệp điện ảnh tôi đã đóng rất nhiều bộ phim như thời niên thiếu của bao thanh thiên ô long viện thiếu lâm tiểu tử hoàng đế 9 tuổi hiện tại ngoài học văn hóa và luyện võ anh rất rất bận rộn đóng phim vậy một năm anh được ở cùng bố mẹ bao lâu tôi cũng không xác định được nữa', 'sống cùng bố mẹ hay xa bố mẹ hoàn toàn phụ thuộc vào việc đóng phim']\n"
     ]
    }
   ],
   "source": [
    "# lowercase\n",
    "full_data = [line.lower() for line in full_data]\n",
    "print(full_data[:5])"
   ]
  },
  {
   "cell_type": "code",
   "execution_count": 11,
   "id": "a2fdf02f",
   "metadata": {},
   "outputs": [
    {
     "name": "stderr",
     "output_type": "stream",
     "text": [
      "738597it [00:01, 444766.22it/s]"
     ]
    },
    {
     "name": "stdout",
     "output_type": "stream",
     "text": [
      "659073\n",
      "['thích tiểu long và những mơ ước trong cuộc sống', 'khát vọng lớn nhất của ngôi sao điện ảnh 16 tuổi này là trở thành một minh tinh võ hiệp chinh phục kinh đô điện ảnh hollywood', 'bởi vậy ngay từ nhỏ thích tiểu long đã lao vào tập luyện và trau dồi kiến thức để thực hiện giấc mơ lớn của mình anh đến với điện ảnh từ khi nào tôi sinh ra trong gia đình nhà võ tên thật của tôi là trần tiểu long năm hơn 1 tuổi đã được bố cho đi học võ và lấy pháp danh là thích tiểu long', 'năm 4 tuổi tôi được mời đóng vai chính trong phim huyền phong tiểu tử và bắt đầu sự nghiệp điện ảnh từ đó đến nay với 12 năm theo nghiệp điện ảnh tôi đã đóng rất nhiều bộ phim như thời niên thiếu của bao thanh thiên ô long viện thiếu lâm tiểu tử hoàng đế 9 tuổi hiện tại ngoài học văn hóa và luyện võ anh rất rất bận rộn đóng phim vậy một năm anh được ở cùng bố mẹ bao lâu tôi cũng không xác định được nữa', 'sống cùng bố mẹ hay xa bố mẹ hoàn toàn phụ thuộc vào việc đóng phim']\n"
     ]
    },
    {
     "name": "stderr",
     "output_type": "stream",
     "text": [
      "\n"
     ]
    }
   ],
   "source": [
    "# remove sentences withe fewer than 10 words and greater than 200 words\n",
    "data = []\n",
    "for i, sentence in tqdm(enumerate(full_data)):\n",
    "    n_words = len(sentence.split(' '))\n",
    "    if n_words >= 10 and n_words <= 200:\n",
    "        data.append(sentence)\n",
    "\n",
    "print(len(data))\n",
    "print(data[:5])"
   ]
  },
  {
   "cell_type": "code",
   "execution_count": 12,
   "id": "c7f74692",
   "metadata": {},
   "outputs": [
    {
     "data": {
      "text/plain": [
       "'hom nay toi tre chuyen xe cuoi cung'"
      ]
     },
     "execution_count": 12,
     "metadata": {},
     "output_type": "execute_result"
    }
   ],
   "source": [
    "# remove diacritics\n",
    "def remove_tones(utf8_str):\n",
    "    intab_l = \"ạảãàáâậầấẩẫăắằặẳẵóòọõỏôộổỗồốơờớợởỡéèẻẹẽêếềệểễúùụủũưựữửừứíìịỉĩýỳỷỵỹđ\"\n",
    "    intab_u = \"ẠẢÃÀÁÂẬẦẤẨẪĂẮẰẶẲẴÓÒỌÕỎÔỘỔỖỒỐƠỜỚỢỞỠÉÈẺẸẼÊẾỀỆỂỄÚÙỤỦŨƯỰỮỬỪỨÍÌỊỈĨÝỲỶỴỸĐ\"\n",
    "    intab = [ch for ch in str(intab_l+intab_u)]\n",
    "\n",
    "    outtab_l = \"a\"*17 + \"o\"*17 + \"e\"*11 + \"u\"*11 + \"i\"*5 + \"y\"*5 + \"d\"\n",
    "    outtab_u = \"A\"*17 + \"O\"*17 + \"E\"*11 + \"U\"*11 + \"I\"*5 + \"Y\"*5 + \"D\"\n",
    "    outtab = outtab_l + outtab_u\n",
    "\n",
    "    r = re.compile(\"|\".join(intab))\n",
    "    replaces_dict = dict(zip(intab, outtab))\n",
    "\n",
    "    return r.sub(lambda m: replaces_dict[m.group(0)], utf8_str)\n",
    "\n",
    "\n",
    "remove_tones('hôm nay tôi trễ chuyến xe cuối cùng')"
   ]
  },
  {
   "cell_type": "code",
   "execution_count": 13,
   "id": "3f724ebe",
   "metadata": {},
   "outputs": [
    {
     "data": {
      "text/plain": [
       "{'chuyen', 'chuyên', 'chuyến', 'chuyền', 'chuyển', 'chuyễn', 'chuyện'}"
      ]
     },
     "execution_count": 13,
     "metadata": {},
     "output_type": "execute_result"
    }
   ],
   "source": [
    "# get all possible diacritics of a given word\n",
    "def get_all_tones(word):\n",
    "    word = remove_tones(word.lower())\n",
    "    words_with_tones = {word}\n",
    "    for w in open('vn_syllables.txt').read().splitlines():\n",
    "        no_tones = remove_tones(w.lower())\n",
    "        if no_tones == word:\n",
    "            words_with_tones.add(w)\n",
    "    \n",
    "    return words_with_tones\n",
    "\n",
    "get_all_tones('chuyen')"
   ]
  },
  {
   "cell_type": "code",
   "execution_count": 14,
   "id": "97889bfd",
   "metadata": {},
   "outputs": [
    {
     "data": {
      "text/plain": [
       "'ho6m nay to6i tre64 chuye61n xe cua61i cu2ng'"
      ]
     },
     "execution_count": 14,
     "metadata": {},
     "output_type": "execute_result"
    }
   ],
   "source": [
    "# normalize diacritics positions\n",
    "def normalize_tone(utf8_str):\n",
    "    intab_l = \"áàảãạâấầẩẫậăắằẳẵặđèéẻẽẹêếềểễệíìỉĩịóòỏõọôốồổỗộơớờởỡợúùủũụưứừửữựýỳỷỹỵ\"\n",
    "    intab_u = \"ÁÀẢÃẠÂẤẦẨẪẬĂẮẰẲẴẶĐÈÉẺẼẸÊẾỀỂỄỆÍÌỈĨỊÓÒỎÕỌÔỐỒỔỖỘƠỚỜỞỠỢÚÙỦŨỤƯỨỪỬỮỰÝỲỶỸỴ\"\n",
    "    intab = [ch for ch in str(intab_l + intab_u)]\n",
    "\n",
    "    outtab_l = [\n",
    "        \"a1\", \"a2\", \"a3\", \"a4\", \"a5\",\n",
    "        \"a6\", \"a61\", \"a62\", \"a63\", \"a64\", \"a65\",\n",
    "        \"a8\", \"a81\", \"a82\", \"a83\", \"a84\", \"a85\",\n",
    "        \"d9\",\n",
    "        \"e1\", \"e2\", \"e3\", \"e4\", \"e5\",\n",
    "        \"e6\", \"e61\", \"e62\", \"e63\", \"e64\", \"e65\",\n",
    "        \"i1\", \"i2\", \"i3\", \"i4\", \"i5\",\n",
    "        \"o1\", \"o2\", \"o3\", \"o4\", \"o5\",\n",
    "        \"o6\", \"a61\", \"o62\", \"o63\", \"o64\", \"o65\",\n",
    "        \"o7\", \"o71\", \"o72\", \"o73\", \"o74\", \"o75\",\n",
    "        \"u1\", \"u2\", \"u3\", \"u4\", \"u5\",\n",
    "        \"u7\", \"u71\", \"u72\", \"u73\", \"u74\", \"u75\",\n",
    "        \"y1\", \"y2\", \"y3\", \"y4\", \"y5\",\n",
    "    ]\n",
    "\n",
    "    outtab_u = [\n",
    "        \"A1\", \"A2\", \"A3\", \"A4\", \"A5\",\n",
    "        \"A6\", \"A61\", \"A62\", \"A63\", \"A64\", \"A65\",\n",
    "        \"A8\", \"A81\", \"A82\", \"A83\", \"A84\", \"A85\",\n",
    "        \"D9\",\n",
    "        \"E1\", \"E2\", \"E3\", \"E4\", \"E5\",\n",
    "        \"E6\", \"E61\", \"E62\", \"E63\", \"E64\", \"E65\",\n",
    "        \"I1\", \"I2\", \"I3\", \"I4\", \"I5\",\n",
    "        \"O1\", \"O2\", \"O3\", \"O4\", \"O5\",\n",
    "        \"O6\", \"O61\", \"O62\", \"O63\", \"O64\", \"O65\",\n",
    "        \"O7\", \"O71\", \"O72\", \"O73\", \"O74\", \"O75\",\n",
    "        \"U1\", \"U2\", \"U3\", \"U4\", \"U5\",\n",
    "        \"U7\", \"U71\", \"U72\", \"U73\", \"U74\", \"U75\",\n",
    "        \"Y1\", \"Y2\", \"Y3\", \"Y4\", \"Y5\",\n",
    "    ]\n",
    "\n",
    "    r = re.compile(\"|\".join(intab))\n",
    "    replaces_dict = dict(zip(intab, outtab_l + outtab_u))\n",
    "\n",
    "    return r.sub(lambda m: replaces_dict[m.group(0)], utf8_str)\n",
    "\n",
    "normalize_tone('hôm nay tôi trễ chuyến xe cuối cùng')"
   ]
  },
  {
   "cell_type": "code",
   "execution_count": 33,
   "id": "37fbc6b3",
   "metadata": {},
   "outputs": [
    {
     "name": "stdout",
     "output_type": "stream",
     "text": [
      "train=50000\n",
      "dev=1000\n",
      "test=1000\n"
     ]
    }
   ],
   "source": [
    "# split data\n",
    "import random\n",
    "\n",
    "random.seed(42)\n",
    "random.shuffle(data)\n",
    "\n",
    "X = data\n",
    "y = [remove_tones(line) for line in X]\n",
    "\n",
    "X_dev = X[:1000]\n",
    "y_dev = y[:1000]\n",
    "\n",
    "X_test = X[1000:2000]\n",
    "y_test = y[1000:2000]\n",
    "\n",
    "X_train = X[2000:52000]\n",
    "y_train = y[2000:52000]\n",
    "\n",
    "\n",
    "print(f'train={len(X_train)}')\n",
    "print(f'dev={len(X_dev)}')\n",
    "print(f'test={len(X_test)}')"
   ]
  },
  {
   "cell_type": "code",
   "execution_count": 34,
   "id": "c735e546",
   "metadata": {},
   "outputs": [
    {
     "name": "stdout",
     "output_type": "stream",
     "text": [
      "['sau khi hoàn tất nghi lễ thượng cờ ông lito atienza thị trưởng thành phố manila cùng hai hoa hậu của philippines và manila đã trao kỷ niệm chương của thành phố cho các trưởng đoàn thể thao đại diện đoàn thái lan cũng chính thức tuyên bố việc đất nước chùa tháp sẽ là chủ nhà của sea games 24', 'công ty an trân nhiều sai phạm trong hoạt động kinh doanh lữ hành', 'người gửi trần vĩnh hà gửi tới ban biên tậptiêu đề rock', 'lấy một lượng nhỏ sữa dưỡng da chấm ở 5 điểm trán mũi cằm và hai bên má', 'theo bộ trưởng thương mại so với các nước trên thế giới việt nam có hạn ngạch tổng cộng 10 triệu tá 120 triệu cái ở 2 cat 347 348 và 647 648 trong khi nhu cầu tiêu thụ tại mỹ vào khoảng 280 triệu cái quần']\n",
      "['sau khi hoan tat nghi le thuong co ong lito atienza thi truong thanh pho manila cung hai hoa hau cua philippines va manila da trao ky niem chuong cua thanh pho cho cac truong doan the thao dai dien doan thai lan cung chinh thuc tuyen bo viec dat nuoc chua thap se la chu nha cua sea games 24', 'cong ty an tran nhieu sai pham trong hoat dong kinh doanh lu hanh', 'nguoi gui tran vinh ha gui toi ban bien taptieu de rock', 'lay mot luong nho sua duong da cham o 5 diem tran mui cam va hai ben ma', 'theo bo truong thuong mai so voi cac nuoc tren the gioi viet nam co han ngach tong cong 10 trieu ta 120 trieu cai o 2 cat 347 348 va 647 648 trong khi nhu cau tieu thu tai my vao khoang 280 trieu cai quan']\n"
     ]
    }
   ],
   "source": [
    "print(X_train[:5])\n",
    "print(y_train[:5])"
   ]
  },
  {
   "cell_type": "code",
   "execution_count": 36,
   "id": "adcfcab3",
   "metadata": {},
   "outputs": [],
   "source": [
    "with open('data/train.tone', 'w', encoding='utf-8') as f:\n",
    "    f.write('\\n'.join(X_train))\n",
    "    \n",
    "with open('data/train.notone', 'w', encoding='utf-8') as f:\n",
    "    f.write('\\n'.join(y_train))\n",
    "    \n",
    "with open('data/dev.tone', 'w', encoding='utf-8') as f:\n",
    "    f.write('\\n'.join(X_dev))\n",
    "    \n",
    "with open('data/dev.notone', 'w', encoding='utf-8') as f:\n",
    "    f.write('\\n'.join(y_dev))\n",
    "    \n",
    "with open('data/test.tone', 'w', encoding='utf-8') as f:\n",
    "    f.write('\\n'.join(X_test))\n",
    "    \n",
    "with open('data/test.notone', 'w', encoding='utf-8') as f:\n",
    "    f.write('\\n'.join(y_test))"
   ]
  },
  {
   "cell_type": "code",
   "execution_count": null,
   "id": "096e7a6a",
   "metadata": {},
   "outputs": [],
   "source": []
  }
 ],
 "metadata": {
  "kernelspec": {
   "display_name": "Python 3 (ipykernel)",
   "language": "python",
   "name": "python3"
  },
  "language_info": {
   "codemirror_mode": {
    "name": "ipython",
    "version": 3
   },
   "file_extension": ".py",
   "mimetype": "text/x-python",
   "name": "python",
   "nbconvert_exporter": "python",
   "pygments_lexer": "ipython3",
   "version": "3.9.7"
  }
 },
 "nbformat": 4,
 "nbformat_minor": 5
}
