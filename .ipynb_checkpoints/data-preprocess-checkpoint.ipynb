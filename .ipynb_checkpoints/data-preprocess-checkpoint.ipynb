{
 "cells": [
  {
   "cell_type": "code",
   "execution_count": 23,
   "id": "296f379e",
   "metadata": {},
   "outputs": [],
   "source": [
    "import os\n",
    "import re"
   ]
  },
  {
   "cell_type": "code",
   "execution_count": null,
   "id": "a383fe43",
   "metadata": {},
   "outputs": [],
   "source": [
    "raw_data = []\n",
    "for dir_name, _, file_names in os.walk('./raw_data'):\n",
    "    for file_name in file_names:\n",
    "        with open(os.path.join(dir_name, file_name), 'r', encoding='UTF-16') as f:\n",
    "            file_data = f.read()\n",
    "            file_data = file_data.replace('\\n', '. ')\n",
    "            raw_data.append(file_data)"
   ]
  },
  {
   "cell_type": "code",
   "execution_count": 22,
   "id": "133c4cf1",
   "metadata": {},
   "outputs": [
    {
     "name": "stdout",
     "output_type": "stream",
     "text": [
      "Thích Tiểu Long và những mơ ước trong cuộc sống. Khát vọng lớn nhất của ngôi sao điện ảnh 16 tuổi này là trở thành một minh tinh võ hiệp, chinh phục kinh đô điện ảnh Hollywood. Bởi vậy, ngay từ nhỏ, Thích Tiểu Long đã lao vào tập luyện và trau dồi kiến thức để thực hiện giấc mơ lớn của mình.. - Anh đến với điện ảnh từ khi nào?. - Tôi sinh ra trong gia đình nhà võ, tên thật của tôi là Trần Tiểu Long, năm hơn 1 tuổi đã được bố cho đi học võ và lấy pháp danh là Thích Tiểu Long. Năm 4 tuổi, tôi được mời đóng vai chính trong phim Huyền phong tiểu tử và bắt đầu sự nghiệp điện ảnh từ đó. Đến nay, với 12 năm theo nghiệp điện ảnh, tôi đã đóng rất nhiều bộ phim như Thời niên thiếu của Bao Thanh Thiên, Ô Long Viện, Thiếu Lâm tiểu tử, Hoàng đế 9 tuổi.... - Hiện tại, ngoài học văn hóa và luyện võ, anh rất rất bận rộn đóng phim, vậy một năm anh được ở cùng bố mẹ bao lâu?. - Tôi cũng không xác định được nữa. Sống cùng bố mẹ hay xa bố mẹ hoàn toàn phụ thuộc vào việc đóng phim. Ví như năm 2001, cả năm tôi chỉ ở nhà vẻn vẹn có 10 ngày, các năm khác thì nhiều hơn chút ít.Từ nhỏ tôi đã theo bố học võ, học không chăm là bị mắng ngay, thậm chí còn ăn cả roi nữa, nhưng tôi không bao giờ giận bố mẹ vì họ đều mong muốn điều tốt đẹp cho tôi. . - Gia đình có ý nghĩa thế nào đối với anh? . - Có những lúc đang đi làm phim, nghĩ đến bố mẹ là tôi chỉ muốn vứt bỏ mọi công việc chạy về nhà. Có lẽ tôi sống cùng bố mẹ ít quá nên thèm muốn những điều như vậy. Tôi cũng luôn tự nhủ sẵn sàng làm bất cứ việc gì, miễn là bố mẹ vui. . - Hơn 10 năm theo điện ảnh, cho đến nay anh thấy mình được gì và mất gì? . - Tôi được đi nhiều nơi, được học hỏi nhiều điều từ cuộc sống, có thể nói điện ảnh đã làm tôi lớn lên rất nhiều. Tuy nhiên, so với các bạn cùng trang lứa thì tôi kém họ nhiều lắm, chẳng hạn như các trò chơi điện tử đều không biết, các thú vui của tuổi học trò đều không được hưởng vì thời gian dành cho đóng phim, học văn hóa đã kín hết. Tuy vậy, tôi không bao giờ hối hận những gì mình đã làm vì mục đích chính của tôi là trở thành một minh tinh võ thuật. . - Giữa Thành Long và Lý Liên Kiệt, anh thích ai hơn? . - Năm 1995, tôi được mời trao giải cho chú Thành Long tại giải Kim Tượng, có lẽ từ lúc đó, hoặc là sớm hơn, Thành Long đã là thần tượng của tôi. Còn so với Lý Liên Kiệt, về võ thuật thì Thành Long thua xa, song võ thuật của diễn viên này trên phim xem cũng rất cuốn hút.. - Kế hoạch tấn công vào Hollywood của anh sẽ như thế nào?. - Tôi còn chưa nghĩ quá nhiều, quá xa như vậy, hiện chỉ mong học hết chương trình phổ thông trung học, đồng thời, việc diễn sao cho thật tốt trong từng phim, tôi nghĩ đó là cách tốt nhất để thực hiện giấc mộng \"minh tinh võ hiệp\". Tôi biết, tới được Hollywood là muôn trùng khó khăn, cần phải có những bước đi vững chắc, nói ra bây giờ còn quá sớm. Đương nhiên tôi sẽ không dễ bỏ qua con đường biểu diễn nghệ thuật. Tôi tin sự khổ luyện hôm nay sẽ là những bậc thềm dẫn đến tương lai.. . . \n"
     ]
    }
   ],
   "source": [
    "full_data = '. '.join(raw_data)\n",
    "full_data = data.replace('\\n', '. ')\n",
    "full_data = re.split(r'(?<=[^A-Z].[.?]) +(?=[A-Z])', full_data)"
   ]
  },
  {
   "cell_type": "code",
   "execution_count": null,
   "id": "2c236764",
   "metadata": {},
   "outputs": [],
   "source": []
  },
  {
   "cell_type": "code",
   "execution_count": null,
   "id": "62fe31b7",
   "metadata": {},
   "outputs": [],
   "source": []
  }
 ],
 "metadata": {
  "kernelspec": {
   "display_name": "Python 3 (ipykernel)",
   "language": "python",
   "name": "python3"
  },
  "language_info": {
   "codemirror_mode": {
    "name": "ipython",
    "version": 3
   },
   "file_extension": ".py",
   "mimetype": "text/x-python",
   "name": "python",
   "nbconvert_exporter": "python",
   "pygments_lexer": "ipython3",
   "version": "3.9.7"
  }
 },
 "nbformat": 4,
 "nbformat_minor": 5
}
