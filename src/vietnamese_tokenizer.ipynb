{
 "cells": [
  {
   "cell_type": "code",
   "execution_count": 1,
   "id": "67de291a",
   "metadata": {},
   "outputs": [
    {
     "name": "stdout",
     "output_type": "stream",
     "text": [
      "Collecting underthesea\n",
      "  Downloading underthesea-6.8.0-py3-none-any.whl (20.9 MB)\n",
      "\u001b[K     |████████████████████████████████| 20.9 MB 4.4 MB/s eta 0:00:01████▉                  | 9.0 MB 290 kB/s eta 0:00:42\n",
      "\u001b[?25hRequirement already satisfied: requests in /Users/thbt175/opt/anaconda3/envs/myenv/lib/python3.9/site-packages (from underthesea) (2.26.0)\n",
      "Requirement already satisfied: nltk in /Users/thbt175/opt/anaconda3/envs/myenv/lib/python3.9/site-packages (from underthesea) (3.6.5)\n",
      "Requirement already satisfied: Click>=6.0 in /Users/thbt175/opt/anaconda3/envs/myenv/lib/python3.9/site-packages (from underthesea) (7.1.2)\n",
      "Collecting python-crfsuite>=0.9.6\n",
      "  Downloading python_crfsuite-0.9.9-cp39-cp39-macosx_10_9_x86_64.whl (183 kB)\n",
      "\u001b[K     |████████████████████████████████| 183 kB 27.7 MB/s eta 0:00:01\n",
      "\u001b[?25hRequirement already satisfied: joblib in /Users/thbt175/opt/anaconda3/envs/myenv/lib/python3.9/site-packages (from underthesea) (1.1.0)\n",
      "Collecting underthesea-core==1.0.4\n",
      "  Downloading underthesea_core-1.0.4-cp39-cp39-macosx_10_7_x86_64.whl (601 kB)\n",
      "\u001b[K     |████████████████████████████████| 601 kB 17.5 MB/s eta 0:00:01��████████▌                   | 235 kB 17.5 MB/s eta 0:00:01\n",
      "\u001b[?25hRequirement already satisfied: scikit-learn in /Users/thbt175/opt/anaconda3/envs/myenv/lib/python3.9/site-packages (from underthesea) (0.24.2)\n",
      "Requirement already satisfied: PyYAML in /Users/thbt175/opt/anaconda3/envs/myenv/lib/python3.9/site-packages (from underthesea) (6.0)\n",
      "Requirement already satisfied: tqdm in /Users/thbt175/opt/anaconda3/envs/myenv/lib/python3.9/site-packages (from underthesea) (4.62.3)\n",
      "Requirement already satisfied: regex>=2021.8.3 in /Users/thbt175/opt/anaconda3/envs/myenv/lib/python3.9/site-packages (from nltk->underthesea) (2021.8.3)\n",
      "Requirement already satisfied: urllib3<1.27,>=1.21.1 in /Users/thbt175/opt/anaconda3/envs/myenv/lib/python3.9/site-packages (from requests->underthesea) (1.26.7)\n",
      "Requirement already satisfied: charset-normalizer~=2.0.0 in /Users/thbt175/opt/anaconda3/envs/myenv/lib/python3.9/site-packages (from requests->underthesea) (2.0.4)\n",
      "Requirement already satisfied: idna<4,>=2.5 in /Users/thbt175/opt/anaconda3/envs/myenv/lib/python3.9/site-packages (from requests->underthesea) (3.2)\n",
      "Requirement already satisfied: certifi>=2017.4.17 in /Users/thbt175/opt/anaconda3/envs/myenv/lib/python3.9/site-packages (from requests->underthesea) (2022.5.18.1)\n",
      "Requirement already satisfied: scipy>=0.19.1 in /Users/thbt175/opt/anaconda3/envs/myenv/lib/python3.9/site-packages (from scikit-learn->underthesea) (1.8.0)\n",
      "Requirement already satisfied: numpy>=1.13.3 in /Users/thbt175/opt/anaconda3/envs/myenv/lib/python3.9/site-packages (from scikit-learn->underthesea) (1.24.4)\n",
      "Requirement already satisfied: threadpoolctl>=2.0.0 in /Users/thbt175/opt/anaconda3/envs/myenv/lib/python3.9/site-packages (from scikit-learn->underthesea) (2.2.0)\n",
      "Installing collected packages: underthesea-core, python-crfsuite, underthesea\n",
      "Successfully installed python-crfsuite-0.9.9 underthesea-6.8.0 underthesea-core-1.0.4\n"
     ]
    }
   ],
   "source": [
    "!pip install underthesea"
   ]
  },
  {
   "cell_type": "code",
   "execution_count": 11,
   "id": "ac66a038",
   "metadata": {},
   "outputs": [
    {
     "data": {
      "text/plain": [
       "['tôi',\n",
       " 'học',\n",
       " 'ngành',\n",
       " 'khoa học',\n",
       " 'máy tính',\n",
       " 'ở',\n",
       " 'trường',\n",
       " 'đại học',\n",
       " 'Notre',\n",
       " 'Dame']"
      ]
     },
     "execution_count": 11,
     "metadata": {},
     "output_type": "execute_result"
    }
   ],
   "source": [
    "import underthesea\n",
    "\n",
    "underthesea.word_tokenize('tôi học ngành khoa học máy tính ở trường đại học Notre Dame')\n",
    "                         # I study Computer Science at the University of Notre Dame (without diacritics)"
   ]
  },
  {
   "cell_type": "code",
   "execution_count": 12,
   "id": "c89fb788",
   "metadata": {},
   "outputs": [
    {
     "data": {
      "text/plain": [
       "['toi',\n",
       " 'hoc',\n",
       " 'nganh khoa',\n",
       " 'hoc',\n",
       " 'may',\n",
       " 'tinh o',\n",
       " 'truong',\n",
       " 'đai',\n",
       " 'hoc',\n",
       " 'Notre',\n",
       " 'Dame']"
      ]
     },
     "execution_count": 12,
     "metadata": {},
     "output_type": "execute_result"
    }
   ],
   "source": [
    "underthesea.word_tokenize('toi hoc nganh khoa hoc may tinh o truong đai hoc Notre Dame')\n",
    "                        # I study Computer Science at the University of Notre Dame (without diacritics)"
   ]
  },
  {
   "cell_type": "code",
   "execution_count": null,
   "id": "fa74d29a",
   "metadata": {},
   "outputs": [],
   "source": []
  }
 ],
 "metadata": {
  "kernelspec": {
   "display_name": "Python 3 (ipykernel)",
   "language": "python",
   "name": "python3"
  },
  "language_info": {
   "codemirror_mode": {
    "name": "ipython",
    "version": 3
   },
   "file_extension": ".py",
   "mimetype": "text/x-python",
   "name": "python",
   "nbconvert_exporter": "python",
   "pygments_lexer": "ipython3",
   "version": "3.9.7"
  }
 },
 "nbformat": 4,
 "nbformat_minor": 5
}
